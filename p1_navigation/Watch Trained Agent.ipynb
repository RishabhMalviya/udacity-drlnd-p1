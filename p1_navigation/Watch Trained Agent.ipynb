{
 "cells": [
  {
   "cell_type": "markdown",
   "id": "fbc9a99a",
   "metadata": {},
   "source": [
    "# Watch Trained Agent\n",
    "\n",
    "This notebook simply loads the learned weights and lets you visualize the agent interact with the evironment"
   ]
  },
  {
   "cell_type": "code",
   "execution_count": 1,
   "id": "38f20bc2",
   "metadata": {},
   "outputs": [],
   "source": [
    "from unityagents import UnityEnvironment\n",
    "\n",
    "from dqn_agent import Agent\n",
    "from utils import train_agent, plot_scores, watch_agent"
   ]
  },
  {
   "cell_type": "code",
   "execution_count": 2,
   "id": "21bbabde",
   "metadata": {},
   "outputs": [
    {
     "name": "stderr",
     "output_type": "stream",
     "text": [
      "INFO:unityagents:\n",
      "'Academy' started successfully!\n",
      "Unity Academy name: Academy\n",
      "        Number of Brains: 1\n",
      "        Number of External Brains : 1\n",
      "        Lesson number : 0\n",
      "        Reset Parameters :\n",
      "\t\t\n",
      "Unity brain name: BananaBrain\n",
      "        Number of Visual Observations (per agent): 0\n",
      "        Vector Observation space type: continuous\n",
      "        Vector Observation space size (per agent): 37\n",
      "        Number of stacked Vector Observation: 1\n",
      "        Vector Action space type: discrete\n",
      "        Vector Action space size (per agent): 4\n",
      "        Vector Action descriptions: , , , \n"
     ]
    },
    {
     "name": "stdout",
     "output_type": "stream",
     "text": [
      "Episode 1\tScore: 5.00\n",
      "Episode 2\tScore: 11.00\n",
      "Episode 3\tScore: 18.00\n",
      "Episode 4\tScore: 0.00\n",
      "Episode 5\tScore: 11.00\n"
     ]
    }
   ],
   "source": [
    "watch_agent(\n",
    "    env    = UnityEnvironment(file_name='./Banana_Linux/Banana.x86_64'),\n",
    "    agent  = Agent(state_size=37, action_size=4, seed=0)\n",
    ")"
   ]
  },
  {
   "cell_type": "code",
   "execution_count": null,
   "id": "cc2cb329",
   "metadata": {},
   "outputs": [],
   "source": []
  }
 ],
 "metadata": {
  "kernelspec": {
   "display_name": "drlnd-p1",
   "language": "python",
   "name": "drlnd-p1"
  },
  "language_info": {
   "codemirror_mode": {
    "name": "ipython",
    "version": 3
   },
   "file_extension": ".py",
   "mimetype": "text/x-python",
   "name": "python",
   "nbconvert_exporter": "python",
   "pygments_lexer": "ipython3",
   "version": "3.6.13"
  }
 },
 "nbformat": 4,
 "nbformat_minor": 5
}
